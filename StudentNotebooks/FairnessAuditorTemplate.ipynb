{
 "cells": [
  {
   "cell_type": "markdown",
   "metadata": {},
   "source": [
    "# Fairness Auditor - Evaluating Bias Mitigation Algorithms\n",
    "\n",
    "This notebook includes the template for processing the data, training a Machine Learning model, applying a bias mitigation algorithm and presenting the utility/fairness results.\n",
    "\n",
    "Key definitions (simplified):\n",
    "* **Dataset:** A dataset includes a set of rows and columns. The rows correspond to the various records of the dataset. The columns are composed of: (a) Outcome: The column which we are trying to predict using a Machine Learning algorithm and (b) Features: The columns which are used to predict the outcome.\n",
    "* **Protected attribute:** Some of the features, are referred to as protected attributes if they should not be used to decide whether someone should get a specific outcome or the other. For example, whether someone receives a loan or not (getting a loan is the outcome here), it should not depend on whether they are Male or Female but rather their financial standing.\n",
    "* **Covariates:** Protected attributes are referred as covariates in the healthcare domain where such features play an important role in outcome prediction. For example, the likelihood of someone getting a breast cancer is much higher if the individual is a Female than when they are Male.\n",
    "* **Fairness:** While there are several definitions of fairness, the overwhelming idea is that different groups as defined by protected attribute should not be treated differently, thus, should not be discriminated against."
   ]
  },
  {
   "cell_type": "markdown",
   "metadata": {},
   "source": [
    "## Import libraries\n",
    "\n",
    "Import required libraries for working with dataset files and performing processing of the data."
   ]
  },
  {
   "cell_type": "code",
   "execution_count": 16,
   "metadata": {},
   "outputs": [],
   "source": [
    "# Filter all warnings (from libraries)\n",
    "import warnings\n",
    "warnings.simplefilter(action = \"ignore\", category = FutureWarning)\n",
    "warnings.filterwarnings(\"ignore\")\n",
    "\n",
    "# Data processing, hanling and saving\n",
    "## Numpy enables handling of arrays (lists) efficiently\n",
    "import numpy as np\n",
    "## Pandas is used for dataframe handling, loading and saving\n",
    "import pandas as pd\n",
    "\n",
    "# Visualization\n",
    "## Matpltolib for basic visualizations\n",
    "import matplotlib.pyplot as plt\n",
    "## Seaborn for advanced visualizations\n",
    "import seaborn as sns\n",
    "\n",
    "# Scikit-learn\n",
    "## LabelEncoder converts a categorical column to numerical columns (e.g. A, B, C to 0, 1, 2)\n",
    "from sklearn.preprocessing import LabelEncoder\n",
    "## OneHotEncoder converts a categorical column to multiple columns with values\n",
    "## 0 (where the value is missing) and 1 (where the value is present)\n",
    "from sklearn.preprocessing import OneHotEncoder\n",
    "## Split a given dataset into train-test\n",
    "from sklearn.model_selection import train_test_split\n",
    "## Training of a Random Forest model\n",
    "from sklearn.ensemble import RandomForestClassifier\n",
    "## Evaluating the model using balanced accuracy metric\n",
    "from sklearn.metrics import balanced_accuracy_score\n",
    "\n",
    "# AIF-360\n",
    "## Used to create a form of dataframe used by AIF-360\n",
    "from aif360.metrics import ClassificationMetric\n",
    "from aif360.datasets import StandardDataset, BinaryLabelDataset\n",
    "## Bias mitigation algorithm - Reweighing\n",
    "from aif360.algorithms.preprocessing import Reweighing"
   ]
  },
  {
   "cell_type": "markdown",
   "metadata": {},
   "source": [
    "## Process data\n",
    "\n",
    "The dataset needs to be processed before it can be used for analysis. This can be based on prior knowledge, domain expertise or literature."
   ]
  },
  {
   "cell_type": "code",
   "execution_count": 2,
   "metadata": {},
   "outputs": [],
   "source": [
    "# Read data and name the variable as data\n",
    "filename = \"data/dataset.csv\"\n",
    "data = pd.read_csv(filename)\n",
    "\n",
    "# Convert marital-status to simpler categories\n",
    "data[\"marital-status\"] = data[\"marital-status\"].replace([\"Never-married\", \"Divorced\", \n",
    "                                                         \"Separated\", \"Widowed\"], \n",
    "                                                        \"Single\")\n",
    "data[\"marital-status\"] = data[\"marital-status\"].replace([\"Married-civ-spouse\",\n",
    "                                                         \"Married-spouse-absent\",\n",
    "                                                         \"Married-AF-spouse\"], \n",
    "                                                        \"Married\")\n",
    "# Convert categorical columns to numerical and change to integer\n",
    "# (Can also be done using LabelEncoder)\n",
    "data[\"marital-status\"] = data[\"marital-status\"].map({\"Married\": 1, \"Single\": 0})\n",
    "data[\"marital-status\"] = data[\"marital-status\"].astype(int)\n",
    "\n",
    "# Convert \"?\" (missing values) to Nan using np.nan\n",
    "# Nan - Not a number\n",
    "data[\"native-country\"] = data[\"native-country\"].replace('?', np.nan)\n",
    "data[\"workclass\"] = data[\"workclass\"].replace('?', np.nan)\n",
    "data[\"occupation\"] = data[\"occupation\"].replace('?', np.nan)\n",
    "\n",
    "# Drop Nan values from all columns \n",
    "data.dropna(how = \"any\", inplace = True)\n",
    "\n",
    "# Drop columns not be used in this specific analysis\n",
    "data.drop(labels = [\"education\", \"age\", \"hours-per-week\", \"fnlwgt\", \n",
    "                    \"capital-gain\", \"capital-loss\", \"native-country\"], axis = 1, inplace = True)\n",
    "\n",
    "# Convert categorical columns to numberical and then change to integer type\n",
    "data[\"gender\"] = data[\"gender\"].map({\"Female\": 0, \"Male\": 1}).astype(int) # Protected attribute\n",
    "data[\"income\"] = data[\"income\"].map({\"<=50K\": 0, \">50K\": 1}).astype(int) # Outcome variable\n",
    "\n",
    "# Convert specific categorical columns using one hot encoding\n",
    "ordered_one_hot_encoders = []\n",
    "for col in [\"workclass\", \"occupation\", \"relationship\", \"race\"]:\n",
    "\n",
    "    # Get One Hot Encoder\n",
    "    oneHotEncoder = OneHotEncoder()\n",
    "    values = data[col].values.reshape(-1, 1)\n",
    "\n",
    "    # Train Encoder and save it\n",
    "    oneHotEncoder.fit(values)\n",
    "    ordered_one_hot_encoders.append(oneHotEncoder)\n",
    "\n",
    "    # Add column to dataframe\n",
    "    data[oneHotEncoder.categories_[0]] = oneHotEncoder.transform(values).toarray().astype(int)\n",
    "\n",
    "    # Remove first column and initial category\n",
    "    data = data.drop([oneHotEncoder.categories_[0][0]], axis = 1)\n",
    "    data = data.drop([col], axis = 1)\n",
    "\n",
    "# Save the processed data to a new file\n",
    "saved_filename = \"data/processed_dataset.csv\"\n",
    "data.to_csv(saved_filename, index = False)"
   ]
  },
  {
   "cell_type": "markdown",
   "metadata": {},
   "source": [
    "## Train and evaluating Utility-Fairness\n",
    "\n",
    "The data is used for training a Random Forest model along with evaluation of utility and fairness.\n",
    "\n",
    "Key definitions (simplified):\n",
    "* **Utility metric:** A metric used for evaluating the performance or score of a Machine Learning model on the test data. Here, utility metric is set to Balanced Accuracy.\n",
    "* **Fairness metric:** A metric used for evaluating the bias in a Machine Learning model's prediction. Here, fairness metric is set to (a) Average Odds Difference, (b) Equal Opportunity Difference and (c) Equalized Odds.\n",
    "\n",
    "Here, we use *Gender* as the protected attribute."
   ]
  },
  {
   "cell_type": "markdown",
   "metadata": {},
   "source": [
    "### Fairness function\n",
    "\n",
    "Function that returns the fairness scores."
   ]
  },
  {
   "cell_type": "code",
   "execution_count": 6,
   "metadata": {},
   "outputs": [],
   "source": [
    "def get_fairness(test, label_col, protected_attrs, y_test_pred, unprivileged_groups, privileged_groups):\n",
    "    \n",
    "    # Create dataset for use in AIF360 library\n",
    "    test = BinaryLabelDataset(df = test, label_names = [label_col], \n",
    "                              protected_attribute_names = protected_attrs,\n",
    "                              favorable_label = 1, unfavorable_label = 0)\n",
    "    \n",
    "    # Combine the predictions with the data\n",
    "    test_pred = test.copy()\n",
    "    test_pred.labels = y_test_pred\n",
    "    \n",
    "    # Get fairness scores\n",
    "    metric = ClassificationMetric(test, test_pred, \n",
    "                                  unprivileged_groups = unprivileged_groups,\n",
    "                                  privileged_groups = privileged_groups)\n",
    "\n",
    "    # Attach results to a list\n",
    "    fairness_results = []\n",
    "    fairness_results.append(metric.average_odds_difference()) # Average Odds Difference\n",
    "    fairness_results.append(metric.equal_opportunity_difference()) # Equal Opportunity Difference\n",
    "    fairness_results.append(max(abs(metric.true_positive_rate_difference()), \n",
    "                                abs(metric.false_positive_rate_difference()))) # Equalized Odds\n",
    "    \n",
    "    # Return results\n",
    "    return fairness_results"
   ]
  },
  {
   "cell_type": "markdown",
   "metadata": {},
   "source": [
    "### Baseline\n",
    "\n",
    "Training a Random Forest model without any bias mitigation algorithm. This is referred as *Baseline*."
   ]
  },
  {
   "cell_type": "code",
   "execution_count": 11,
   "metadata": {},
   "outputs": [
    {
     "data": {
      "text/html": [
       "<div>\n",
       "<style scoped>\n",
       "    .dataframe tbody tr th:only-of-type {\n",
       "        vertical-align: middle;\n",
       "    }\n",
       "\n",
       "    .dataframe tbody tr th {\n",
       "        vertical-align: top;\n",
       "    }\n",
       "\n",
       "    .dataframe thead th {\n",
       "        text-align: right;\n",
       "    }\n",
       "</style>\n",
       "<table border=\"1\" class=\"dataframe\">\n",
       "  <thead>\n",
       "    <tr style=\"text-align: right;\">\n",
       "      <th></th>\n",
       "      <th>Test Balanced Accuracy</th>\n",
       "      <th>Average Odds Difference</th>\n",
       "      <th>Equal Opportunity Difference</th>\n",
       "      <th>Equalized Odds</th>\n",
       "    </tr>\n",
       "  </thead>\n",
       "  <tbody>\n",
       "    <tr>\n",
       "      <th>0</th>\n",
       "      <td>0.729543</td>\n",
       "      <td>-0.125034</td>\n",
       "      <td>-0.153869</td>\n",
       "      <td>0.153869</td>\n",
       "    </tr>\n",
       "  </tbody>\n",
       "</table>\n",
       "</div>"
      ],
      "text/plain": [
       "   Test Balanced Accuracy  Average Odds Difference  \\\n",
       "0                0.729543                -0.125034   \n",
       "\n",
       "   Equal Opportunity Difference  Equalized Odds  \n",
       "0                     -0.153869        0.153869  "
      ]
     },
     "execution_count": 11,
     "metadata": {},
     "output_type": "execute_result"
    }
   ],
   "source": [
    "# Get features and labels\n",
    "X = data.drop([\"income\"], axis = 1)\n",
    "y = data[\"income\"]\n",
    "\n",
    "# Split into train-test set to 70-30\n",
    "X_train, X_test, y_train, y_test = train_test_split(X, y, \n",
    "                                                    stratify = y, \n",
    "                                                    test_size = 0.30, \n",
    "                                                    random_state = 0)\n",
    "\n",
    "# Create model and train it\n",
    "model = RandomForestClassifier(random_state = 0, n_jobs = -1)\n",
    "model.fit(X_train, y_train)\n",
    "\n",
    "# Make prediction\n",
    "y_test_pred = model.predict(X_test)\n",
    "\n",
    "# Get fairness results\n",
    "X_test.loc[:, \"income\"] = y_test\n",
    "avg_ods, eq_opp, equalized_odds = get_fairness(X_test, \n",
    "                                               \"income\", \n",
    "                                               [\"gender\"], \n",
    "                                               y_test_pred, \n",
    "                                               [{\"gender\": 0}], \n",
    "                                               [{\"gender\": 1}])\n",
    "\n",
    "# Create dataframe\n",
    "baseline_scores_df = pd.DataFrame({\"Test Balanced Accuracy\": balanced_accuracy_score(y_test, y_test_pred),\n",
    "                                   \"Average Odds Difference\": avg_ods,\n",
    "                                   \"Equal Opportunity Difference\": eq_opp,\n",
    "                                   \"Equalized Odds\": equalized_odds}, index = [0])\n",
    "\n",
    "# Output scores\n",
    "baseline_scores_df"
   ]
  },
  {
   "cell_type": "markdown",
   "metadata": {},
   "source": [
    "### Reweighing\n",
    "\n",
    "Training a Random Forest model without **reweighing** bias mitigation algorithm. This is referred as *Reweighing*."
   ]
  },
  {
   "cell_type": "code",
   "execution_count": 14,
   "metadata": {},
   "outputs": [
    {
     "data": {
      "text/html": [
       "<div>\n",
       "<style scoped>\n",
       "    .dataframe tbody tr th:only-of-type {\n",
       "        vertical-align: middle;\n",
       "    }\n",
       "\n",
       "    .dataframe tbody tr th {\n",
       "        vertical-align: top;\n",
       "    }\n",
       "\n",
       "    .dataframe thead th {\n",
       "        text-align: right;\n",
       "    }\n",
       "</style>\n",
       "<table border=\"1\" class=\"dataframe\">\n",
       "  <thead>\n",
       "    <tr style=\"text-align: right;\">\n",
       "      <th></th>\n",
       "      <th>Test Balanced Accuracy</th>\n",
       "      <th>Average Odds Difference</th>\n",
       "      <th>Equal Opportunity Difference</th>\n",
       "      <th>Equalized Odds</th>\n",
       "    </tr>\n",
       "  </thead>\n",
       "  <tbody>\n",
       "    <tr>\n",
       "      <th>0</th>\n",
       "      <td>0.711146</td>\n",
       "      <td>-0.002877</td>\n",
       "      <td>0.037289</td>\n",
       "      <td>0.043044</td>\n",
       "    </tr>\n",
       "  </tbody>\n",
       "</table>\n",
       "</div>"
      ],
      "text/plain": [
       "   Test Balanced Accuracy  Average Odds Difference  \\\n",
       "0                0.711146                -0.002877   \n",
       "\n",
       "   Equal Opportunity Difference  Equalized Odds  \n",
       "0                      0.037289        0.043044  "
      ]
     },
     "execution_count": 14,
     "metadata": {},
     "output_type": "execute_result"
    }
   ],
   "source": [
    "# Get features and labels\n",
    "X = data.drop([\"income\"], axis = 1)\n",
    "y = data[\"income\"]\n",
    "\n",
    "# Split into train-test set to 70-30\n",
    "X_train, X_test, y_train, y_test = train_test_split(X, y, \n",
    "                                                    stratify = y, \n",
    "                                                    test_size = 0.30, \n",
    "                                                    random_state = 0)\n",
    "\n",
    "# Create model and train it\n",
    "model = RandomForestClassifier(random_state = 0, n_jobs = -1)\n",
    "# Reweighing\n",
    "train = X_train.copy()\n",
    "train.loc[:, \"income\"] = y_train\n",
    "train = BinaryLabelDataset(df = train, label_names = [\"income\"], \n",
    "                           protected_attribute_names = [\"gender\"],\n",
    "                           favorable_label = 1, unfavorable_label = 0)\n",
    "\n",
    "# Reweighing\n",
    "rw = Reweighing(unprivileged_groups = [{\"gender\": 0}], \n",
    "                     privileged_groups = [{\"gender\": 1}])\n",
    "rw.fit(train)\n",
    "train = rw.transform(train)\n",
    "model.fit(X_train, y_train, sample_weight = train.instance_weights)\n",
    "\n",
    "# Make prediction\n",
    "y_test_pred = model.predict(X_test)\n",
    "\n",
    "# Get fairness results\n",
    "X_test.loc[:, \"income\"] = y_test\n",
    "avg_ods, eq_opp, equalized_odds = get_fairness(X_test, \n",
    "                                               \"income\", \n",
    "                                               [\"gender\"], \n",
    "                                               y_test_pred, \n",
    "                                               [{\"gender\": 0}], \n",
    "                                               [{\"gender\": 1}])\n",
    "\n",
    "# Create dataframe\n",
    "reweighing_scores_df = pd.DataFrame({\"Test Balanced Accuracy\": balanced_accuracy_score(y_test, y_test_pred),\n",
    "                                   \"Average Odds Difference\": avg_ods,\n",
    "                                   \"Equal Opportunity Difference\": eq_opp,\n",
    "                                   \"Equalized Odds\": equalized_odds}, index = [0])\n",
    "\n",
    "# Output scores\n",
    "reweighing_scores_df"
   ]
  },
  {
   "cell_type": "markdown",
   "metadata": {},
   "source": [
    "## Comparing scores\n",
    "\n",
    "The scores achieved by the two models are compared using box plots."
   ]
  },
  {
   "cell_type": "code",
   "execution_count": 54,
   "metadata": {},
   "outputs": [
    {
     "data": {
      "text/plain": [
       "''"
      ]
     },
     "execution_count": 54,
     "metadata": {},
     "output_type": "execute_result"
    },
    {
     "data": {
      "image/png": "[encoded data removed]",
      "text/plain": [
       "<Figure size 1152x576 with 4 Axes>"
      ]
     },
     "metadata": {
      "needs_background": "light"
     },
     "output_type": "display_data"
    }
   ],
   "source": [
    "# Create 4 plots\n",
    "fig, ax = plt.subplots(1, 4, figsize = (16, 8))\n",
    "\n",
    "# For Average Odds Difference (fairness region)\n",
    "ax[1].axhline(-0.1, color = \"black\")\n",
    "ax[1].axhline(0.0, color = \"black\")\n",
    "ax[1].axhline(0.1, color = \"black\")\n",
    "ax[1].axhspan(-0.1, 0.1, alpha = 0.25, color = \"#AFE1AF\")\n",
    "\n",
    "# For Equal Opportunity Difference (fairness region)\n",
    "ax[2].axhline(-0.1, color = \"black\")\n",
    "ax[2].axhline(0.0, color = \"black\")\n",
    "ax[2].axhline(0.1, color = \"black\")\n",
    "ax[2].axhspan(-0.1, 0.1, alpha = 0.25, color = \"#AFE1AF\")\n",
    "\n",
    "# For Equalized Odds (fairness region)\n",
    "ax[3].axhline(0.0, color = \"black\")\n",
    "ax[3].axhline(0.1, color = \"black\") \n",
    "ax[3].axhspan(0.0, 0.1, alpha = 0.25, color = \"#AFE1AF\")\n",
    "\n",
    "# Plot the values\n",
    "for i, metric in enumerate(baseline_scores_df.columns):\n",
    "    ax[i].scatter([0], [baseline_scores_df[metric]], marker = \"o\", s = 150)\n",
    "    ax[i].scatter([1], [reweighing_scores_df[metric]], marker = \"*\", s = 150)\n",
    "    \n",
    "    # Update x-axis ticks\n",
    "    ax[i].set_xticks([-0.5, 0, 0.5, 1, 1.5]) \n",
    "    ax[i].set_xticklabels([\"\", \"Baseline\", \"\", \"Reweighing\", \"\"])\n",
    "    \n",
    "    # Update title\n",
    "    ax[i].set_title(metric)\n",
    "    \n",
    "# Update y-axis ticks\n",
    "ax[0].set_yticks([0.5, 0.6, 0.7, 0.8, 0.9, 1.0])\n",
    "ax[1].set_yticks([-0.2, -0.1, 0.0, 0.1, 0.2])\n",
    "ax[2].set_yticks([-0.2, -0.1, 0.0, 0.1, 0.2])\n",
    "ax[3].set_yticks([0.0, 0.1, 0.2, 0.3, 0.4])\n",
    ";"
   ]
  },
  {
   "cell_type": "markdown",
   "metadata": {},
   "source": [
    "From the results, we can conclude that *Baseline* has better utility score than *Reweighing*. However, as measured by the three fairness metrics, the *Reweighing* scores are inside the region of fairness while *Baseline* scores are not."
   ]
  }
 ],
 "metadata": {
  "kernelspec": {
   "display_name": "Python [conda env:synthetic_data]",
   "language": "python",
   "name": "conda-env-synthetic_data-py"
  },
  "language_info": {
   "codemirror_mode": {
    "name": "ipython",
    "version": 3
   },
   "file_extension": ".py",
   "mimetype": "text/x-python",
   "name": "python",
   "nbconvert_exporter": "python",
   "pygments_lexer": "ipython3",
   "version": "3.7.12"
  }
 },
 "nbformat": 4,
 "nbformat_minor": 2
}
